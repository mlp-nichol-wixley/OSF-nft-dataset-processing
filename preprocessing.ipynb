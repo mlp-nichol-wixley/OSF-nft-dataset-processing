{
 "cells": [
  {
   "cell_type": "code",
   "execution_count": 35,
   "id": "9aa31db6",
   "metadata": {},
   "outputs": [
    {
     "data": {
      "text/plain": [
       "9223372036854775807"
      ]
     },
     "execution_count": 35,
     "metadata": {},
     "output_type": "execute_result"
    }
   ],
   "source": [
    "import os\n",
    "import numpy as np\n",
    "import csv\n",
    "import torch\n",
    "import sys\n",
    "from datetime import datetime\n",
    "from tqdm import tqdm\n",
    "import pickle\n",
    "\n",
    "csv.field_size_limit(sys.maxsize)"
   ]
  },
  {
   "cell_type": "code",
   "execution_count": 2,
   "id": "92e9d2fe",
   "metadata": {},
   "outputs": [],
   "source": [
    "device = torch.device('cuda' if torch.cuda.is_available() else 'cpu')"
   ]
  },
  {
   "cell_type": "code",
   "execution_count": 3,
   "id": "872404bf",
   "metadata": {},
   "outputs": [],
   "source": [
    "def readCSV(fname):\n",
    "    file = open(f\"{os.getcwd()}/{fname}.csv\")\n",
    "    csvreader = csv.reader(file)\n",
    "    header = []\n",
    "    header = next(csvreader)\n",
    "    \n",
    "    rows = []\n",
    "    for row in csvreader:\n",
    "        rows.append(row)\n",
    "    file.close()\n",
    "        \n",
    "    return header, rows"
   ]
  },
  {
   "cell_type": "code",
   "execution_count": 4,
   "id": "1de2d8f4",
   "metadata": {},
   "outputs": [],
   "source": [
    "coll_head, coll_rows = readCSV(\"Cleaning_collections\")\n",
    "api_head, api_rows = readCSV(\"Data_API\")"
   ]
  },
  {
   "cell_type": "code",
   "execution_count": 30,
   "id": "b77d980a",
   "metadata": {},
   "outputs": [
    {
     "data": {
      "text/plain": [
       "6071027"
      ]
     },
     "execution_count": 30,
     "metadata": {},
     "output_type": "execute_result"
    }
   ],
   "source": [
    "len(api_rows)"
   ]
  },
  {
   "cell_type": "code",
   "execution_count": 5,
   "id": "cc40232b",
   "metadata": {},
   "outputs": [
    {
     "data": {
      "text/plain": [
       "['',\n",
       " '87094722.0',\n",
       " '0xed9ff1c311a611e5c457ce0a49bbbb7ed55efca988421aee27a01a8f8f6810f2',\n",
       " '0x76481caa104b5f6bccb540dae4cefaf1c398ebea',\n",
       " '',\n",
       " '0xe0fb7622091e3d9ef9b438471b10b9ea88c7cf6b',\n",
       " '',\n",
       " 'https://card.godsunchained.com/?id=33&q=4',\n",
       " '',\n",
       " '',\n",
       " '',\n",
       " '0.0002',\n",
       " 'ETH',\n",
       " '0.030318',\n",
       " '',\n",
       " '',\n",
       " 'Godsunchained',\n",
       " 'Godsunchained',\n",
       " '2019-11-30 00:00:00',\n",
       " '2019-11-30 23:59:33',\n",
       " '',\n",
       " \"('Godsunchained', '87094722.0')\",\n",
       " 'Godsunchained',\n",
       " 'Games']"
      ]
     },
     "execution_count": 5,
     "metadata": {},
     "output_type": "execute_result"
    }
   ],
   "source": [
    "api_rows[0]"
   ]
  },
  {
   "cell_type": "code",
   "execution_count": 6,
   "id": "b487e583",
   "metadata": {},
   "outputs": [
    {
     "data": {
      "text/plain": [
       "['Smart_contract',\n",
       " 'ID_token',\n",
       " 'Transaction_hash',\n",
       " 'Seller_address',\n",
       " 'Seller_username',\n",
       " 'Buyer_address',\n",
       " 'Buyer_username',\n",
       " 'Image_url_1',\n",
       " 'Image_url_2',\n",
       " 'Image_url_3',\n",
       " 'Image_url_4',\n",
       " 'Price_Crypto',\n",
       " 'Crypto',\n",
       " 'Price_USD',\n",
       " 'Name',\n",
       " 'Description',\n",
       " 'Collection',\n",
       " 'Market',\n",
       " 'Datetime_updated',\n",
       " 'Datetime_updated_seconds',\n",
       " 'Permanent_link',\n",
       " 'Unique_id_collection',\n",
       " 'Collection_cleaned',\n",
       " 'Category']"
      ]
     },
     "execution_count": 6,
     "metadata": {},
     "output_type": "execute_result"
    }
   ],
   "source": [
    "api_head"
   ]
  },
  {
   "cell_type": "code",
   "execution_count": 22,
   "id": "38b91bd3",
   "metadata": {},
   "outputs": [],
   "source": [
    "el = api_rows[53]\n",
    "d1 = datetime.fromisoformat(el[18]).timestamp()\n",
    "d2 = datetime.fromisoformat(el[19])\n",
    "coll = el[16]"
   ]
  },
  {
   "cell_type": "code",
   "execution_count": 24,
   "id": "78713dca",
   "metadata": {},
   "outputs": [
    {
     "data": {
      "text/plain": [
       "'Godsunchained'"
      ]
     },
     "execution_count": 24,
     "metadata": {},
     "output_type": "execute_result"
    }
   ],
   "source": [
    "coll"
   ]
  },
  {
   "cell_type": "code",
   "execution_count": 31,
   "id": "3f62bbb0",
   "metadata": {},
   "outputs": [
    {
     "name": "stderr",
     "output_type": "stream",
     "text": [
      "2657173it [44:02, 1005.66it/s] \n"
     ]
    },
    {
     "ename": "KeyboardInterrupt",
     "evalue": "",
     "output_type": "error",
     "traceback": [
      "\u001b[0;31m---------------------------------------------------------------------------\u001b[0m",
      "\u001b[0;31mKeyboardInterrupt\u001b[0m                         Traceback (most recent call last)",
      "\u001b[0;32m/tmp/ipykernel_51978/3237932336.py\u001b[0m in \u001b[0;36m<module>\u001b[0;34m\u001b[0m\n\u001b[1;32m      6\u001b[0m         \u001b[0mdata\u001b[0m\u001b[0;34m[\u001b[0m\u001b[0mcoll\u001b[0m\u001b[0;34m]\u001b[0m \u001b[0;34m=\u001b[0m \u001b[0;34m[\u001b[0m\u001b[0mi\u001b[0m\u001b[0;34m]\u001b[0m\u001b[0;34m\u001b[0m\u001b[0;34m\u001b[0m\u001b[0m\n\u001b[1;32m      7\u001b[0m     \u001b[0;32melse\u001b[0m\u001b[0;34m:\u001b[0m\u001b[0;34m\u001b[0m\u001b[0;34m\u001b[0m\u001b[0m\n\u001b[0;32m----> 8\u001b[0;31m         \u001b[0mdata\u001b[0m\u001b[0;34m[\u001b[0m\u001b[0mcoll\u001b[0m\u001b[0;34m]\u001b[0m \u001b[0;34m=\u001b[0m \u001b[0mdata\u001b[0m\u001b[0;34m[\u001b[0m\u001b[0mcoll\u001b[0m\u001b[0;34m]\u001b[0m \u001b[0;34m+\u001b[0m \u001b[0;34m[\u001b[0m\u001b[0mi\u001b[0m\u001b[0;34m]\u001b[0m\u001b[0;34m\u001b[0m\u001b[0;34m\u001b[0m\u001b[0m\n\u001b[0m",
      "\u001b[0;31mKeyboardInterrupt\u001b[0m: "
     ]
    }
   ],
   "source": [
    "data = {}\n",
    "\n",
    "for i, rowi in tqdm(enumerate(api_rows)):\n",
    "    coll = rowi[22]\n",
    "    if not coll in data.keys():\n",
    "        data[coll] = [i]\n",
    "    else:\n",
    "        data[coll] = data[coll] + [i]"
   ]
  },
  {
   "cell_type": "code",
   "execution_count": 33,
   "id": "d69f40e2",
   "metadata": {},
   "outputs": [],
   "source": [
    "collections = set([row[22] for row in api_rows])"
   ]
  },
  {
   "cell_type": "code",
   "execution_count": 34,
   "id": "fa150c34",
   "metadata": {},
   "outputs": [
    {
     "data": {
      "text/plain": [
       "4624"
      ]
     },
     "execution_count": 34,
     "metadata": {},
     "output_type": "execute_result"
    }
   ],
   "source": [
    "len(collections)"
   ]
  },
  {
   "cell_type": "code",
   "execution_count": 37,
   "id": "43c3c771",
   "metadata": {},
   "outputs": [
    {
     "name": "stderr",
     "output_type": "stream",
     "text": [
      "100%|███████████████████████████████████████| 4624/4624 [41:18<00:00,  1.87it/s]\n"
     ]
    }
   ],
   "source": [
    "for c in tqdm(collections):\n",
    "    nfts = [row for row in api_rows if row[22] == c]\n",
    "    with open(f\"collections/{c}\", \"wb\") as f:\n",
    "        pickle.dump(nfts, f)"
   ]
  },
  {
   "cell_type": "code",
   "execution_count": null,
   "id": "20feae4c",
   "metadata": {},
   "outputs": [],
   "source": []
  },
  {
   "cell_type": "markdown",
   "id": "6c0ea2da",
   "metadata": {},
   "source": [
    "# Get All Dates"
   ]
  },
  {
   "cell_type": "code",
   "execution_count": 69,
   "id": "1170b9a1",
   "metadata": {},
   "outputs": [],
   "source": [
    "c = list(collections)[1000]"
   ]
  },
  {
   "cell_type": "code",
   "execution_count": 70,
   "id": "2ecd8747",
   "metadata": {},
   "outputs": [],
   "source": [
    "c_nfts = pickle.load(open(f\"collections/{c}\", \"rb\"))"
   ]
  },
  {
   "cell_type": "code",
   "execution_count": null,
   "id": "c43388ec",
   "metadata": {},
   "outputs": [],
   "source": [
    "# USD_mean, USD_median, USD_var, USD_sum, USD_prod\n",
    "# CRYTO_mean, CRYPTO_var, CRYPTO_median, CRYPTO_sum, CRYPTO_prod, \n",
    "# CRYPTO (1=WAX), COUNT, Buyer Address, Smart Contract, Category\n",
    "\n",
    "coll_stats = np.zeros((11))"
   ]
  },
  {
   "cell_type": "code",
   "execution_count": 97,
   "id": "a191c896",
   "metadata": {},
   "outputs": [],
   "source": [
    "def collStats(c, start, end):\n",
    "    doc_vars = [[]]*6\n",
    "    \n",
    "    c_nfts = pickle.load(open(f\"collections/{c}\",\"rb\"))\n",
    "    print(c_nfts)\n",
    "    \n",
    "    for nft in c_nfts:\n",
    "        doc_vars[0] = doc_vars[0] + [nft[13]] # USD\n",
    "        doc_vars[1] = doc_vars[1] + [nft[11]] # CRYPTO\n",
    "        doc_vars[2] = doc_vars[2] + [nft[12]] # COIN\n",
    "        doc_vars[3] = doc_vars[3] + [nft[5]]  # Buyer address\n",
    "        doc_vars[4] = doc_vars[4] + [nft[17]] # Market\n",
    "        doc_vars[5] = doc_vars[5] + [nft[23]] # Category\n",
    "    \n",
    "    output = []\n",
    "    for el in doc_vars[0:2]:\n",
    "        el = np.array(el).astype(float)\n",
    "        output.append([np.mean(el), np.median(el), np.var(el), np.sum(el), np.prod(el)])\n",
    "    output.append(doc_vars[2])\n",
    "    output.append(doc_vars[3])\n",
    "    output.append(doc_vars[4])\n",
    "    output.append(doc_vars[5])\n",
    "    return output\n",
    "              "
   ]
  },
  {
   "cell_type": "code",
   "execution_count": 96,
   "id": "7df73267",
   "metadata": {},
   "outputs": [
    {
     "data": {
      "text/plain": [
       "[[0.5566265714285714,\n",
       "  0.26135,\n",
       "  0.5231295218076734,\n",
       "  3.8963859999999997,\n",
       "  0.000741944386524028],\n",
       " [1.9985714285714287, 1.0, 5.982869387755102, 13.99, 7.99],\n",
       " ['WAX', 'WAX', 'WAX', 'WAX', 'WAX', 'WAX', 'WAX'],\n",
       " ['boab.wam',\n",
       "  '1mjqw.wam',\n",
       "  'boab.wam',\n",
       "  '1mjqw.wam',\n",
       "  'mvsb.wam',\n",
       "  '1mjqw.wam',\n",
       "  'evsau.wam'],\n",
       " ['Atomic', 'Atomic', 'Atomic', 'Atomic', 'Atomic', 'Atomic', 'Atomic'],\n",
       " ['Other', 'Other', 'Other', 'Other', 'Other', 'Other', 'Other']]"
      ]
     },
     "execution_count": 96,
     "metadata": {},
     "output_type": "execute_result"
    }
   ],
   "source": [
    "stats = collStats(c, 0, 0)\n",
    "stats"
   ]
  },
  {
   "cell_type": "code",
   "execution_count": 72,
   "id": "51eb1198",
   "metadata": {},
   "outputs": [
    {
     "name": "stdout",
     "output_type": "stream",
     "text": [
      "['2021-04-05 01:29:33', '2021-04-05 01:29:21', '2021-04-05 01:28:24', '2021-04-05 01:28:16', '2021-04-05 01:26:36', '2021-04-05 01:26:28', '2021-04-03 13:24:13']\n"
     ]
    }
   ],
   "source": [
    "dates = [nft[19] for nft in c_nfts]\n",
    "print(dates)"
   ]
  },
  {
   "cell_type": "code",
   "execution_count": 46,
   "id": "a7c291fe",
   "metadata": {},
   "outputs": [
    {
     "name": "stdout",
     "output_type": "stream",
     "text": [
      "1482\n",
      "1535\n"
     ]
    }
   ],
   "source": [
    "nft_ids = set([nft[1] for nft in nfts])\n",
    "print(len(nft_ids))\n",
    "print(len(nfts))\n",
    "#print(nft_ids)\n",
    "prices = {}\n",
    "\n",
    "for id_str in nft_ids:\n",
    "    prices[id_str] = 0"
   ]
  },
  {
   "cell_type": "markdown",
   "id": "d1b9ee60",
   "metadata": {},
   "source": [
    "# Get All Collection Stats For Each Date"
   ]
  },
  {
   "cell_type": "code",
   "execution_count": null,
   "id": "4eb0246b",
   "metadata": {},
   "outputs": [],
   "source": []
  },
  {
   "cell_type": "markdown",
   "id": "5a587c79",
   "metadata": {},
   "source": [
    "# Create function to get stats of an nft's given collection"
   ]
  },
  {
   "cell_type": "markdown",
   "id": "caf61ba9",
   "metadata": {},
   "source": [
    "# Iterate Over Collections - Parse Sliding Windows\n",
    "\n",
    "### Data to be included (for each date) for the NFT:\n",
    "- All collection stats (number of items, volume traded)\n",
    "- NFT collection stats (number of items, volume traded)\n",
    "- NFT stats (crypto, price USD, price cypto, category)\n",
    "- Label - percentage return"
   ]
  },
  {
   "cell_type": "code",
   "execution_count": null,
   "id": "61b7b83e",
   "metadata": {},
   "outputs": [],
   "source": []
  }
 ],
 "metadata": {
  "kernelspec": {
   "display_name": "Python 3 (ipykernel)",
   "language": "python",
   "name": "python3"
  },
  "language_info": {
   "codemirror_mode": {
    "name": "ipython",
    "version": 3
   },
   "file_extension": ".py",
   "mimetype": "text/x-python",
   "name": "python",
   "nbconvert_exporter": "python",
   "pygments_lexer": "ipython3",
   "version": "3.9.7"
  }
 },
 "nbformat": 4,
 "nbformat_minor": 5
}
