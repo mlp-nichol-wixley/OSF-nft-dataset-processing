{
 "cells": [
  {
   "cell_type": "code",
   "execution_count": 17,
   "id": "9aa31db6",
   "metadata": {},
   "outputs": [
    {
     "data": {
      "text/plain": [
       "9223372036854775807"
      ]
     },
     "execution_count": 17,
     "metadata": {},
     "output_type": "execute_result"
    }
   ],
   "source": [
    "import os\n",
    "import numpy as np\n",
    "import csv\n",
    "import torch\n",
    "import sys\n",
    "from datetime import datetime\n",
    "\n",
    "csv.field_size_limit(sys.maxsize)"
   ]
  },
  {
   "cell_type": "code",
   "execution_count": 7,
   "id": "a3a65d9c",
   "metadata": {},
   "outputs": [],
   "source": [
    "device = torch.device('cuda' if torch.cuda.is_available() else 'cpu')"
   ]
  },
  {
   "cell_type": "code",
   "execution_count": 8,
   "id": "872404bf",
   "metadata": {},
   "outputs": [],
   "source": [
    "def readCSV(fname):\n",
    "    file = open(f\"{os.getcwd()}/{fname}.csv\")\n",
    "    csvreader = csv.reader(file)\n",
    "    header = []\n",
    "    header = next(csvreader)\n",
    "    \n",
    "    rows = []\n",
    "    for row in csvreader:\n",
    "        rows.append(row)\n",
    "    file.close()\n",
    "        \n",
    "    return header, rows"
   ]
  },
  {
   "cell_type": "code",
   "execution_count": 11,
   "id": "1de2d8f4",
   "metadata": {},
   "outputs": [],
   "source": [
    "coll_head, coll_rows = readCSV(\"Cleaning_collections\")\n",
    "api_head, api_rows = readCSV(\"Data_API\")"
   ]
  },
  {
   "cell_type": "code",
   "execution_count": 13,
   "id": "cc40232b",
   "metadata": {},
   "outputs": [
    {
     "data": {
      "text/plain": [
       "['',\n",
       " '87094722.0',\n",
       " '0xed9ff1c311a611e5c457ce0a49bbbb7ed55efca988421aee27a01a8f8f6810f2',\n",
       " '0x76481caa104b5f6bccb540dae4cefaf1c398ebea',\n",
       " '',\n",
       " '0xe0fb7622091e3d9ef9b438471b10b9ea88c7cf6b',\n",
       " '',\n",
       " 'https://card.godsunchained.com/?id=33&q=4',\n",
       " '',\n",
       " '',\n",
       " '',\n",
       " '0.0002',\n",
       " 'ETH',\n",
       " '0.030318',\n",
       " '',\n",
       " '',\n",
       " 'Godsunchained',\n",
       " 'Godsunchained',\n",
       " '2019-11-30 00:00:00',\n",
       " '2019-11-30 23:59:33',\n",
       " '',\n",
       " \"('Godsunchained', '87094722.0')\",\n",
       " 'Godsunchained',\n",
       " 'Games']"
      ]
     },
     "execution_count": 13,
     "metadata": {},
     "output_type": "execute_result"
    }
   ],
   "source": [
    "api_rows[0]"
   ]
  },
  {
   "cell_type": "code",
   "execution_count": 14,
   "id": "bce32836",
   "metadata": {},
   "outputs": [
    {
     "data": {
      "text/plain": [
       "['Smart_contract',\n",
       " 'ID_token',\n",
       " 'Transaction_hash',\n",
       " 'Seller_address',\n",
       " 'Seller_username',\n",
       " 'Buyer_address',\n",
       " 'Buyer_username',\n",
       " 'Image_url_1',\n",
       " 'Image_url_2',\n",
       " 'Image_url_3',\n",
       " 'Image_url_4',\n",
       " 'Price_Crypto',\n",
       " 'Crypto',\n",
       " 'Price_USD',\n",
       " 'Name',\n",
       " 'Description',\n",
       " 'Collection',\n",
       " 'Market',\n",
       " 'Datetime_updated',\n",
       " 'Datetime_updated_seconds',\n",
       " 'Permanent_link',\n",
       " 'Unique_id_collection',\n",
       " 'Collection_cleaned',\n",
       " 'Category']"
      ]
     },
     "execution_count": 14,
     "metadata": {},
     "output_type": "execute_result"
    }
   ],
   "source": [
    "api_head"
   ]
  },
  {
   "cell_type": "code",
   "execution_count": 22,
   "id": "3dd07a1b",
   "metadata": {},
   "outputs": [],
   "source": [
    "el = api_rows[53]\n",
    "d1 = datetime.fromisoformat(el[18]).timestamp()\n",
    "d2 = datetime.fromisoformat(el[19])\n",
    "coll = el[16]"
   ]
  },
  {
   "cell_type": "code",
   "execution_count": 24,
   "id": "6695e14e",
   "metadata": {},
   "outputs": [
    {
     "data": {
      "text/plain": [
       "'Godsunchained'"
      ]
     },
     "execution_count": 24,
     "metadata": {},
     "output_type": "execute_result"
    }
   ],
   "source": [
    "coll"
   ]
  },
  {
   "cell_type": "code",
   "execution_count": null,
   "id": "3f0b00cd",
   "metadata": {},
   "outputs": [],
   "source": [
    "for "
   ]
  }
 ],
 "metadata": {
  "kernelspec": {
   "display_name": "Python 3 (ipykernel)",
   "language": "python",
   "name": "python3"
  },
  "language_info": {
   "codemirror_mode": {
    "name": "ipython",
    "version": 3
   },
   "file_extension": ".py",
   "mimetype": "text/x-python",
   "name": "python",
   "nbconvert_exporter": "python",
   "pygments_lexer": "ipython3",
   "version": "3.9.7"
  }
 },
 "nbformat": 4,
 "nbformat_minor": 5
}
