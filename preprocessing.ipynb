{
 "cells": [
  {
   "cell_type": "code",
   "execution_count": 35,
   "id": "9aa31db6",
   "metadata": {},
   "outputs": [
    {
     "data": {
      "text/plain": [
       "9223372036854775807"
      ]
     },
     "execution_count": 35,
     "metadata": {},
     "output_type": "execute_result"
    }
   ],
   "source": [
    "import os\n",
    "import numpy as np\n",
    "import csv\n",
    "import torch\n",
    "import sys\n",
    "from datetime import datetime\n",
    "from tqdm import tqdm\n",
    "import pickle\n",
    "\n",
    "csv.field_size_limit(sys.maxsize)"
   ]
  },
  {
   "cell_type": "code",
   "execution_count": 2,
   "id": "92e9d2fe",
   "metadata": {},
   "outputs": [],
   "source": [
    "device = torch.device('cuda' if torch.cuda.is_available() else 'cpu')"
   ]
  },
  {
   "cell_type": "code",
   "execution_count": 3,
   "id": "872404bf",
   "metadata": {},
   "outputs": [],
   "source": [
    "def readCSV(fname):\n",
    "    file = open(f\"{os.getcwd()}/{fname}.csv\")\n",
    "    csvreader = csv.reader(file)\n",
    "    header = []\n",
    "    header = next(csvreader)\n",
    "    \n",
    "    rows = []\n",
    "    for row in csvreader:\n",
    "        rows.append(row)\n",
    "    file.close()\n",
    "        \n",
    "    return header, rows"
   ]
  },
  {
   "cell_type": "code",
   "execution_count": 4,
   "id": "1de2d8f4",
   "metadata": {},
   "outputs": [],
   "source": [
    "coll_head, coll_rows = readCSV(\"Cleaning_collections\")\n",
    "api_head, api_rows = readCSV(\"Data_API\")"
   ]
  },
  {
   "cell_type": "code",
   "execution_count": 30,
   "id": "32c1615f",
   "metadata": {},
   "outputs": [
    {
     "data": {
      "text/plain": [
       "6071027"
      ]
     },
     "execution_count": 30,
     "metadata": {},
     "output_type": "execute_result"
    }
   ],
   "source": [
    "len(api_rows)"
   ]
  },
  {
   "cell_type": "code",
   "execution_count": 5,
   "id": "cc40232b",
   "metadata": {},
   "outputs": [
    {
     "data": {
      "text/plain": [
       "['',\n",
       " '87094722.0',\n",
       " '0xed9ff1c311a611e5c457ce0a49bbbb7ed55efca988421aee27a01a8f8f6810f2',\n",
       " '0x76481caa104b5f6bccb540dae4cefaf1c398ebea',\n",
       " '',\n",
       " '0xe0fb7622091e3d9ef9b438471b10b9ea88c7cf6b',\n",
       " '',\n",
       " 'https://card.godsunchained.com/?id=33&q=4',\n",
       " '',\n",
       " '',\n",
       " '',\n",
       " '0.0002',\n",
       " 'ETH',\n",
       " '0.030318',\n",
       " '',\n",
       " '',\n",
       " 'Godsunchained',\n",
       " 'Godsunchained',\n",
       " '2019-11-30 00:00:00',\n",
       " '2019-11-30 23:59:33',\n",
       " '',\n",
       " \"('Godsunchained', '87094722.0')\",\n",
       " 'Godsunchained',\n",
       " 'Games']"
      ]
     },
     "execution_count": 5,
     "metadata": {},
     "output_type": "execute_result"
    }
   ],
   "source": [
    "api_rows[0]"
   ]
  },
  {
   "cell_type": "code",
   "execution_count": 6,
   "id": "b487e583",
   "metadata": {},
   "outputs": [
    {
     "data": {
      "text/plain": [
       "['Smart_contract',\n",
       " 'ID_token',\n",
       " 'Transaction_hash',\n",
       " 'Seller_address',\n",
       " 'Seller_username',\n",
       " 'Buyer_address',\n",
       " 'Buyer_username',\n",
       " 'Image_url_1',\n",
       " 'Image_url_2',\n",
       " 'Image_url_3',\n",
       " 'Image_url_4',\n",
       " 'Price_Crypto',\n",
       " 'Crypto',\n",
       " 'Price_USD',\n",
       " 'Name',\n",
       " 'Description',\n",
       " 'Collection',\n",
       " 'Market',\n",
       " 'Datetime_updated',\n",
       " 'Datetime_updated_seconds',\n",
       " 'Permanent_link',\n",
       " 'Unique_id_collection',\n",
       " 'Collection_cleaned',\n",
       " 'Category']"
      ]
     },
     "execution_count": 6,
     "metadata": {},
     "output_type": "execute_result"
    }
   ],
   "source": [
    "api_head"
   ]
  },
  {
   "cell_type": "code",
   "execution_count": 22,
   "id": "38b91bd3",
   "metadata": {},
   "outputs": [],
   "source": [
    "el = api_rows[53]\n",
    "d1 = datetime.fromisoformat(el[18]).timestamp()\n",
    "d2 = datetime.fromisoformat(el[19])\n",
    "coll = el[16]"
   ]
  },
  {
   "cell_type": "code",
   "execution_count": 24,
   "id": "78713dca",
   "metadata": {},
   "outputs": [
    {
     "data": {
      "text/plain": [
       "'Godsunchained'"
      ]
     },
     "execution_count": 24,
     "metadata": {},
     "output_type": "execute_result"
    }
   ],
   "source": [
    "coll"
   ]
  },
  {
   "cell_type": "code",
   "execution_count": 31,
   "id": "3f62bbb0",
   "metadata": {},
   "outputs": [
    {
     "name": "stderr",
     "output_type": "stream",
     "text": [
      "2657173it [44:02, 1005.66it/s] \n"
     ]
    },
    {
     "ename": "KeyboardInterrupt",
     "evalue": "",
     "output_type": "error",
     "traceback": [
      "\u001b[0;31m---------------------------------------------------------------------------\u001b[0m",
      "\u001b[0;31mKeyboardInterrupt\u001b[0m                         Traceback (most recent call last)",
      "\u001b[0;32m/tmp/ipykernel_51978/3237932336.py\u001b[0m in \u001b[0;36m<module>\u001b[0;34m\u001b[0m\n\u001b[1;32m      6\u001b[0m         \u001b[0mdata\u001b[0m\u001b[0;34m[\u001b[0m\u001b[0mcoll\u001b[0m\u001b[0;34m]\u001b[0m \u001b[0;34m=\u001b[0m \u001b[0;34m[\u001b[0m\u001b[0mi\u001b[0m\u001b[0;34m]\u001b[0m\u001b[0;34m\u001b[0m\u001b[0;34m\u001b[0m\u001b[0m\n\u001b[1;32m      7\u001b[0m     \u001b[0;32melse\u001b[0m\u001b[0;34m:\u001b[0m\u001b[0;34m\u001b[0m\u001b[0;34m\u001b[0m\u001b[0m\n\u001b[0;32m----> 8\u001b[0;31m         \u001b[0mdata\u001b[0m\u001b[0;34m[\u001b[0m\u001b[0mcoll\u001b[0m\u001b[0;34m]\u001b[0m \u001b[0;34m=\u001b[0m \u001b[0mdata\u001b[0m\u001b[0;34m[\u001b[0m\u001b[0mcoll\u001b[0m\u001b[0;34m]\u001b[0m \u001b[0;34m+\u001b[0m \u001b[0;34m[\u001b[0m\u001b[0mi\u001b[0m\u001b[0;34m]\u001b[0m\u001b[0;34m\u001b[0m\u001b[0;34m\u001b[0m\u001b[0m\n\u001b[0m",
      "\u001b[0;31mKeyboardInterrupt\u001b[0m: "
     ]
    }
   ],
   "source": [
    "data = {}\n",
    "\n",
    "for i, rowi in tqdm(enumerate(api_rows)):\n",
    "    coll = rowi[22]\n",
    "    if not coll in data.keys():\n",
    "        data[coll] = [i]\n",
    "    else:\n",
    "        data[coll] = data[coll] + [i]"
   ]
  },
  {
   "cell_type": "code",
   "execution_count": 33,
   "id": "399aca64",
   "metadata": {},
   "outputs": [],
   "source": [
    "collections = set([row[22] for row in api_rows])"
   ]
  },
  {
   "cell_type": "code",
   "execution_count": 34,
   "id": "25555520",
   "metadata": {},
   "outputs": [
    {
     "data": {
      "text/plain": [
       "4624"
      ]
     },
     "execution_count": 34,
     "metadata": {},
     "output_type": "execute_result"
    }
   ],
   "source": [
    "len(collections)"
   ]
  },
  {
   "cell_type": "code",
   "execution_count": 37,
   "id": "47403958",
   "metadata": {},
   "outputs": [
    {
     "name": "stderr",
     "output_type": "stream",
     "text": [
      "100%|███████████████████████████████████████| 4624/4624 [41:18<00:00,  1.87it/s]\n"
     ]
    }
   ],
   "source": [
    "for c in tqdm(collections):\n",
    "    nfts = [row for row in api_rows if row[22] == c]\n",
    "    with open(f\"collections/{c}\", \"wb\") as f:\n",
    "        pickle.dump(nfts, f)"
   ]
  },
  {
   "cell_type": "code",
   "execution_count": null,
   "id": "786dd236",
   "metadata": {},
   "outputs": [],
   "source": []
  },
  {
   "cell_type": "code",
   "execution_count": null,
   "id": "c489e6f5",
   "metadata": {},
   "outputs": [],
   "source": [
    "# Get Dates"
   ]
  },
  {
   "cell_type": "code",
   "execution_count": null,
   "id": "1a9c4e82",
   "metadata": {},
   "outputs": [],
   "source": [
    "# Get All Collection Stats For Each Date"
   ]
  },
  {
   "cell_type": "code",
   "execution_count": null,
   "id": "489ae133",
   "metadata": {},
   "outputs": [],
   "source": [
    "# Create function to get stats of an nft's given collection"
   ]
  },
  {
   "cell_type": "markdown",
   "id": "dd22be01",
   "metadata": {},
   "source": [
    "# Iterate Over Collections - Parse Sliding Windows\n",
    "\n",
    "### Data to be included (for each date) for the NFT:\n",
    "- All collection stats (number of items, volume traded)\n",
    "- NFT collection stats (number of items, volume traded)\n",
    "- NFT stats (crypto, price USD, price cypto, category)\n",
    "- Label - percentage return"
   ]
  },
  {
   "cell_type": "code",
   "execution_count": null,
   "id": "c9394262",
   "metadata": {},
   "outputs": [],
   "source": []
  }
 ],
 "metadata": {
  "kernelspec": {
   "display_name": "Python 3 (ipykernel)",
   "language": "python",
   "name": "python3"
  },
  "language_info": {
   "codemirror_mode": {
    "name": "ipython",
    "version": 3
   },
   "file_extension": ".py",
   "mimetype": "text/x-python",
   "name": "python",
   "nbconvert_exporter": "python",
   "pygments_lexer": "ipython3",
   "version": "3.9.7"
  }
 },
 "nbformat": 4,
 "nbformat_minor": 5
}
