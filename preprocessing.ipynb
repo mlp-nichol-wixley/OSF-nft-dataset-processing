{
 "cells": [
  {
   "cell_type": "code",
   "execution_count": 35,
   "id": "9aa31db6",
   "metadata": {},
   "outputs": [
    {
     "data": {
      "text/plain": [
       "9223372036854775807"
      ]
     },
     "execution_count": 35,
     "metadata": {},
     "output_type": "execute_result"
    }
   ],
   "source": [
    "import os\n",
    "import numpy as np\n",
    "import csv\n",
    "import torch\n",
    "import sys\n",
    "from datetime import datetime\n",
    "from tqdm import tqdm\n",
    "import pickle\n",
    "\n",
    "csv.field_size_limit(sys.maxsize)"
   ]
  },
  {
   "cell_type": "code",
   "execution_count": 2,
   "id": "92e9d2fe",
   "metadata": {},
   "outputs": [],
   "source": [
    "device = torch.device('cuda' if torch.cuda.is_available() else 'cpu')"
   ]
  },
  {
   "cell_type": "code",
   "execution_count": 3,
   "id": "872404bf",
   "metadata": {},
   "outputs": [],
   "source": [
    "def readCSV(fname):\n",
    "    file = open(f\"{os.getcwd()}/{fname}.csv\")\n",
    "    csvreader = csv.reader(file)\n",
    "    header = []\n",
    "    header = next(csvreader)\n",
    "    \n",
    "    rows = []\n",
    "    for row in csvreader:\n",
    "        rows.append(row)\n",
    "    file.close()\n",
    "        \n",
    "    return header, rows"
   ]
  },
  {
   "cell_type": "code",
   "execution_count": 4,
   "id": "1de2d8f4",
   "metadata": {},
   "outputs": [],
   "source": [
    "coll_head, coll_rows = readCSV(\"Cleaning_collections\")\n",
    "api_head, api_rows = readCSV(\"Data_API\")"
   ]
  },
  {
   "cell_type": "code",
   "execution_count": 30,
   "id": "5447ad37",
   "metadata": {},
   "outputs": [
    {
     "data": {
      "text/plain": [
       "6071027"
      ]
     },
     "execution_count": 30,
     "metadata": {},
     "output_type": "execute_result"
    }
   ],
   "source": [
    "len(api_rows)"
   ]
  },
  {
   "cell_type": "code",
   "execution_count": 5,
   "id": "cc40232b",
   "metadata": {},
   "outputs": [
    {
     "data": {
      "text/plain": [
       "['',\n",
       " '87094722.0',\n",
       " '0xed9ff1c311a611e5c457ce0a49bbbb7ed55efca988421aee27a01a8f8f6810f2',\n",
       " '0x76481caa104b5f6bccb540dae4cefaf1c398ebea',\n",
       " '',\n",
       " '0xe0fb7622091e3d9ef9b438471b10b9ea88c7cf6b',\n",
       " '',\n",
       " 'https://card.godsunchained.com/?id=33&q=4',\n",
       " '',\n",
       " '',\n",
       " '',\n",
       " '0.0002',\n",
       " 'ETH',\n",
       " '0.030318',\n",
       " '',\n",
       " '',\n",
       " 'Godsunchained',\n",
       " 'Godsunchained',\n",
       " '2019-11-30 00:00:00',\n",
       " '2019-11-30 23:59:33',\n",
       " '',\n",
       " \"('Godsunchained', '87094722.0')\",\n",
       " 'Godsunchained',\n",
       " 'Games']"
      ]
     },
     "execution_count": 5,
     "metadata": {},
     "output_type": "execute_result"
    }
   ],
   "source": [
    "api_rows[0]"
   ]
  },
  {
   "cell_type": "code",
   "execution_count": 6,
   "id": "b487e583",
   "metadata": {},
   "outputs": [
    {
     "data": {
      "text/plain": [
       "['Smart_contract',\n",
       " 'ID_token',\n",
       " 'Transaction_hash',\n",
       " 'Seller_address',\n",
       " 'Seller_username',\n",
       " 'Buyer_address',\n",
       " 'Buyer_username',\n",
       " 'Image_url_1',\n",
       " 'Image_url_2',\n",
       " 'Image_url_3',\n",
       " 'Image_url_4',\n",
       " 'Price_Crypto',\n",
       " 'Crypto',\n",
       " 'Price_USD',\n",
       " 'Name',\n",
       " 'Description',\n",
       " 'Collection',\n",
       " 'Market',\n",
       " 'Datetime_updated',\n",
       " 'Datetime_updated_seconds',\n",
       " 'Permanent_link',\n",
       " 'Unique_id_collection',\n",
       " 'Collection_cleaned',\n",
       " 'Category']"
      ]
     },
     "execution_count": 6,
     "metadata": {},
     "output_type": "execute_result"
    }
   ],
   "source": [
    "api_head"
   ]
  },
  {
   "cell_type": "code",
   "execution_count": 22,
   "id": "38b91bd3",
   "metadata": {},
   "outputs": [],
   "source": [
    "el = api_rows[53]\n",
    "d1 = datetime.fromisoformat(el[18]).timestamp()\n",
    "d2 = datetime.fromisoformat(el[19])\n",
    "coll = el[16]"
   ]
  },
  {
   "cell_type": "code",
   "execution_count": 24,
   "id": "78713dca",
   "metadata": {},
   "outputs": [
    {
     "data": {
      "text/plain": [
       "'Godsunchained'"
      ]
     },
     "execution_count": 24,
     "metadata": {},
     "output_type": "execute_result"
    }
   ],
   "source": [
    "coll"
   ]
  },
  {
   "cell_type": "code",
   "execution_count": 31,
   "id": "3f62bbb0",
   "metadata": {},
   "outputs": [
    {
     "name": "stderr",
     "output_type": "stream",
     "text": [
      "2657173it [44:02, 1005.66it/s] \n"
     ]
    },
    {
     "ename": "KeyboardInterrupt",
     "evalue": "",
     "output_type": "error",
     "traceback": [
      "\u001b[0;31m---------------------------------------------------------------------------\u001b[0m",
      "\u001b[0;31mKeyboardInterrupt\u001b[0m                         Traceback (most recent call last)",
      "\u001b[0;32m/tmp/ipykernel_51978/3237932336.py\u001b[0m in \u001b[0;36m<module>\u001b[0;34m\u001b[0m\n\u001b[1;32m      6\u001b[0m         \u001b[0mdata\u001b[0m\u001b[0;34m[\u001b[0m\u001b[0mcoll\u001b[0m\u001b[0;34m]\u001b[0m \u001b[0;34m=\u001b[0m \u001b[0;34m[\u001b[0m\u001b[0mi\u001b[0m\u001b[0;34m]\u001b[0m\u001b[0;34m\u001b[0m\u001b[0;34m\u001b[0m\u001b[0m\n\u001b[1;32m      7\u001b[0m     \u001b[0;32melse\u001b[0m\u001b[0;34m:\u001b[0m\u001b[0;34m\u001b[0m\u001b[0;34m\u001b[0m\u001b[0m\n\u001b[0;32m----> 8\u001b[0;31m         \u001b[0mdata\u001b[0m\u001b[0;34m[\u001b[0m\u001b[0mcoll\u001b[0m\u001b[0;34m]\u001b[0m \u001b[0;34m=\u001b[0m \u001b[0mdata\u001b[0m\u001b[0;34m[\u001b[0m\u001b[0mcoll\u001b[0m\u001b[0;34m]\u001b[0m \u001b[0;34m+\u001b[0m \u001b[0;34m[\u001b[0m\u001b[0mi\u001b[0m\u001b[0;34m]\u001b[0m\u001b[0;34m\u001b[0m\u001b[0;34m\u001b[0m\u001b[0m\n\u001b[0m",
      "\u001b[0;31mKeyboardInterrupt\u001b[0m: "
     ]
    }
   ],
   "source": [
    "data = {}\n",
    "\n",
    "for i, rowi in tqdm(enumerate(api_rows)):\n",
    "    coll = rowi[22]\n",
    "    if not coll in data.keys():\n",
    "        data[coll] = [i]\n",
    "    else:\n",
    "        data[coll] = data[coll] + [i]"
   ]
  },
  {
   "cell_type": "code",
   "execution_count": 33,
   "id": "3f30a1c1",
   "metadata": {},
   "outputs": [],
   "source": [
    "collections = set([row[22] for row in api_rows])"
   ]
  },
  {
   "cell_type": "code",
   "execution_count": 34,
   "id": "95c548fd",
   "metadata": {},
   "outputs": [
    {
     "data": {
      "text/plain": [
       "4624"
      ]
     },
     "execution_count": 34,
     "metadata": {},
     "output_type": "execute_result"
    }
   ],
   "source": [
    "len(collections)"
   ]
  },
  {
   "cell_type": "code",
   "execution_count": 37,
   "id": "5ab27a68",
   "metadata": {},
   "outputs": [
    {
     "name": "stderr",
     "output_type": "stream",
     "text": [
      "100%|███████████████████████████████████████| 4624/4624 [41:18<00:00,  1.87it/s]\n"
     ]
    }
   ],
   "source": [
    "for c in tqdm(collections):\n",
    "    nfts = [row for row in api_rows if row[22] == c]\n",
    "    with open(f\"collections/{c}\", \"wb\") as f:\n",
    "        pickle.dump(nfts, f)"
   ]
  },
  {
   "cell_type": "code",
   "execution_count": null,
   "id": "d4975832",
   "metadata": {},
   "outputs": [],
   "source": []
  },
  {
   "cell_type": "markdown",
   "id": "c73ee354",
   "metadata": {},
   "source": [
    "# Get All Dates"
   ]
  },
  {
   "cell_type": "code",
   "execution_count": 177,
   "id": "5a396c4c",
   "metadata": {},
   "outputs": [
    {
     "name": "stderr",
     "output_type": "stream",
     "text": [
      "4624it [00:23, 193.88it/s] \n"
     ]
    }
   ],
   "source": [
    "dateranges = np.empty((len(collections),2)).astype(str)\n",
    "for i, c in tqdm(enumerate(collections)):\n",
    "    dateranges[i,:] = getCollectionDateRange(loadCollection(c))\n",
    "\n",
    "with open(f\"collections/stats/date-ranges\", \"wb\") as f:\n",
    "    pickle.dump(dateranges, f)"
   ]
  },
  {
   "cell_type": "code",
   "execution_count": 108,
   "id": "4e4f853e",
   "metadata": {},
   "outputs": [
    {
     "data": {
      "text/plain": [
       "[['0x495f947276749ce646f68ac8c248420045cb7b5e',\n",
       "  '18976052027569290857136700956073086525213900237404415829545669477904202858497',\n",
       "  '0xbc678b5693d280ac51802f4680501dc7c4f348982373bab1b626718c2bfda4c8',\n",
       "  '0x29f41098f6d8c733a877ddda9efa837e4115f15d',\n",
       "  'vanity',\n",
       "  '0x3ac687c15fbe649d7db2fa764d19b309de63f114',\n",
       "  'Stormzy',\n",
       "  'https://lh3.googleusercontent.com/Od_e88Nwc_8eg2w-BQUlGDDJ954TJ29lPxdIn_9I4ylbBowT8XSxrF1TUrKRVlTtbVJdNkovda9Q724YPfyDikYLJkSAc3Pwf2XfAg',\n",
       "  '',\n",
       "  'https://lh3.googleusercontent.com/Od_e88Nwc_8eg2w-BQUlGDDJ954TJ29lPxdIn_9I4ylbBowT8XSxrF1TUrKRVlTtbVJdNkovda9Q724YPfyDikYLJkSAc3Pwf2XfAg=s250',\n",
       "  'https://lh3.googleusercontent.com/Od_e88Nwc_8eg2w-BQUlGDDJ954TJ29lPxdIn_9I4ylbBowT8XSxrF1TUrKRVlTtbVJdNkovda9Q724YPfyDikYLJkSAc3Pwf2XfAg=s128',\n",
       "  '0.05',\n",
       "  'WETH',\n",
       "  '97.795421588075',\n",
       "  'Watermelon Gummy Ring #1',\n",
       "  'A delicious blast of watermelon flavor with a satisfying sugar-coated gummy texture!',\n",
       "  'Cryptocandies',\n",
       "  'OpenSea',\n",
       "  '2021-02-20 00:00:00',\n",
       "  '2021-02-20 12:15:05',\n",
       "  'https://opensea.io/assets/0x495f947276749ce646f68ac8c248420045cb7b5e/18976052027569290857136700956073086525213900237404415829545669477904202858497',\n",
       "  \"('Cryptocandies', '18976052027569290857136700956073086525213900237404415829545669477904202858497')\",\n",
       "  'Cryptocandie',\n",
       "  'Other'],\n",
       " ['0x495f947276749ce646f68ac8c248420045cb7b5e',\n",
       "  '18976052027569290857136700956073086525213900237404415829545669483401760997377',\n",
       "  '0xe82106e5614554b12f9b14172805f26ce76dd84513da312c9cc4baded758cdfa',\n",
       "  '0x29f41098f6d8c733a877ddda9efa837e4115f15d',\n",
       "  'vanity',\n",
       "  '0x3d3d936d7e3e2ca8b1f05bae3de79bd00550f0d5',\n",
       "  '',\n",
       "  'https://lh3.googleusercontent.com/30An8yhDywwJA01SSfeUO86G8MF82DjusUOQm--mJg1_-XsKtlR1a-hwfLiS9jUvBNyADeU7ahwv-RTlvhZs_n5DpcyxbrQezYWYig',\n",
       "  '',\n",
       "  'https://lh3.googleusercontent.com/30An8yhDywwJA01SSfeUO86G8MF82DjusUOQm--mJg1_-XsKtlR1a-hwfLiS9jUvBNyADeU7ahwv-RTlvhZs_n5DpcyxbrQezYWYig=s250',\n",
       "  'https://lh3.googleusercontent.com/30An8yhDywwJA01SSfeUO86G8MF82DjusUOQm--mJg1_-XsKtlR1a-hwfLiS9jUvBNyADeU7ahwv-RTlvhZs_n5DpcyxbrQezYWYig=s128',\n",
       "  '0.03',\n",
       "  'ETH',\n",
       "  '57.0144',\n",
       "  'Lava Planet Pop #1',\n",
       "  \"Sweet & heat!\\n\\nIt's a delicacy somewhere...\",\n",
       "  'Cryptocandies',\n",
       "  'OpenSea',\n",
       "  '2021-02-18 00:00:00',\n",
       "  '2021-02-18 04:45:50',\n",
       "  'https://opensea.io/assets/0x495f947276749ce646f68ac8c248420045cb7b5e/18976052027569290857136700956073086525213900237404415829545669483401760997377',\n",
       "  \"('Cryptocandies', '18976052027569290857136700956073086525213900237404415829545669483401760997377')\",\n",
       "  'Cryptocandie',\n",
       "  'Other'],\n",
       " ['0x495f947276749ce646f68ac8c248420045cb7b5e',\n",
       "  '65716754608333360983333046099157492278337045785892583762863396638802894127105',\n",
       "  '0x0995bed9acfc500c78508350f696e2be5d0cb12f1981ed604a7f87692e4e4832',\n",
       "  '0x914a5d6ff6e6e18414cecb83e1530f45b5260f11',\n",
       "  'Blokkbuzzer',\n",
       "  '0x17d4572eb6fa3dfb0c05c5c42fd277cdf02c9bdd',\n",
       "  'ChrisGryphen_Collection',\n",
       "  'https://lh3.googleusercontent.com/EszIwj22-ENRH7bexZ1EkI17Dn7naCuInbFQ_cQd66Qrin9OWgGXKL8kgIIvjJo5NHaDAiJL2iQs8LtV1tA5dUPRlf4VyAUpQY6fXw',\n",
       "  '',\n",
       "  'https://lh3.googleusercontent.com/EszIwj22-ENRH7bexZ1EkI17Dn7naCuInbFQ_cQd66Qrin9OWgGXKL8kgIIvjJo5NHaDAiJL2iQs8LtV1tA5dUPRlf4VyAUpQY6fXw=s250',\n",
       "  'https://lh3.googleusercontent.com/EszIwj22-ENRH7bexZ1EkI17Dn7naCuInbFQ_cQd66Qrin9OWgGXKL8kgIIvjJo5NHaDAiJL2iQs8LtV1tA5dUPRlf4VyAUpQY6fXw=s128',\n",
       "  '0.01',\n",
       "  'WETH',\n",
       "  '17.957699376387804',\n",
       "  '1. Crypto Candy #1 of 10',\n",
       "  'Crypto Candies are colourful animated, big eyed, emoji like smileys.\\nThis one is the first ever minted.',\n",
       "  'Crypto-candies',\n",
       "  'OpenSea',\n",
       "  '2021-03-17 00:00:00',\n",
       "  '2021-03-17 20:15:02',\n",
       "  'https://opensea.io/assets/0x495f947276749ce646f68ac8c248420045cb7b5e/65716754608333360983333046099157492278337045785892583762863396638802894127105',\n",
       "  \"('Crypto-candies', '65716754608333360983333046099157492278337045785892583762863396638802894127105')\",\n",
       "  'Cryptocandie',\n",
       "  'Other'],\n",
       " ['0x495f947276749ce646f68ac8c248420045cb7b5e',\n",
       "  '18976052027569290857136700956073086525213900237404415829545669526282714480641',\n",
       "  '0x114fdf26726a1cd331133ba092818bc6306c747ba96839bfbcfccb63e5efb3b7',\n",
       "  '0x29f41098f6d8c733a877ddda9efa837e4115f15d',\n",
       "  'vanity',\n",
       "  '0x01287928846d905313e7d76763feade3098e133b',\n",
       "  'Gabiwan68',\n",
       "  'https://lh3.googleusercontent.com/OK05qKZWcF8LCZnvPYuEPMX-EwuBnFl0K28hYWx9zZLGdhqUsnesg64qaLsqn_MhvGQJnu17IUdhTUQaHORZA9ZnXHedB6RtADRDFMo',\n",
       "  '',\n",
       "  'https://lh3.googleusercontent.com/OK05qKZWcF8LCZnvPYuEPMX-EwuBnFl0K28hYWx9zZLGdhqUsnesg64qaLsqn_MhvGQJnu17IUdhTUQaHORZA9ZnXHedB6RtADRDFMo=s250',\n",
       "  'https://lh3.googleusercontent.com/OK05qKZWcF8LCZnvPYuEPMX-EwuBnFl0K28hYWx9zZLGdhqUsnesg64qaLsqn_MhvGQJnu17IUdhTUQaHORZA9ZnXHedB6RtADRDFMo=s128',\n",
       "  '0.05',\n",
       "  'ETH',\n",
       "  '74.655',\n",
       "  'Wrapped Ethereum Candy #1',\n",
       "  \"It will send your taste buds to the moon!  Vitalik's Favorite.\",\n",
       "  'Cryptocandies',\n",
       "  'OpenSea',\n",
       "  '2021-03-01 00:00:00',\n",
       "  '2021-03-01 19:50:28',\n",
       "  'https://opensea.io/assets/0x495f947276749ce646f68ac8c248420045cb7b5e/18976052027569290857136700956073086525213900237404415829545669526282714480641',\n",
       "  \"('Cryptocandies', '18976052027569290857136700956073086525213900237404415829545669526282714480641')\",\n",
       "  'Cryptocandie',\n",
       "  'Other']]"
      ]
     },
     "execution_count": 108,
     "metadata": {},
     "output_type": "execute_result"
    }
   ],
   "source": [
    "nfts = loadCollection(c)\n",
    "nfts"
   ]
  },
  {
   "cell_type": "code",
   "execution_count": null,
   "id": "95a4b735",
   "metadata": {},
   "outputs": [],
   "source": [
    "# USD_mean, USD_median, USD_var, USD_sum, USD_prod\n",
    "# CRYTO_mean, CRYPTO_var, CRYPTO_median, CRYPTO_sum, CRYPTO_prod, \n",
    "# CRYPTO (1=WAX), COUNT, Buyer Address, Smart Contract, Category\n",
    "\n",
    "coll_stats = np.zeros((11))"
   ]
  },
  {
   "cell_type": "markdown",
   "id": "25651841",
   "metadata": {},
   "source": [
    "# Get All Collection Stats For Each Date"
   ]
  },
  {
   "cell_type": "code",
   "execution_count": 162,
   "id": "e667380f",
   "metadata": {},
   "outputs": [],
   "source": [
    "def loadCollection(c):\n",
    "    return pickle.load(open(f\"collections/{c}\", \"rb\"))\n",
    "\n",
    "def getTimestamp(date):\n",
    "    return datetime.fromisoformat(date).timestamp()\n",
    "\n",
    "def getCollectionDateRange(c_nfts):\n",
    "    dates = {i: getTimestamp(el[19]) for i, el in enumerate(c_nfts)}\n",
    "    return c_nfts[max(dates, key=dates.get)][19], c_nfts[min(dates, key=dates.get)][19]"
   ]
  },
  {
   "cell_type": "code",
   "execution_count": 168,
   "id": "d34db213",
   "metadata": {},
   "outputs": [],
   "source": [
    "def collStats(c, start, end):\n",
    "    doc_vars = [[]]*6\n",
    "    start_ts = getTimestamp(start)\n",
    "    end_ts = getTimestamp(end)\n",
    "    \n",
    "    c_nfts = loadCollection(c)\n",
    "    #print(c_nfts)\n",
    "    maxDate, minDate = getCollectionDateRange(c_nfts)\n",
    "    \n",
    "    for nft in c_nfts:\n",
    "        date = nft[19]\n",
    "        date_ts = getTimestamp(date)\n",
    "        if date == start or date == end or (date_ts > start_ts and date_ts < end_ts):\n",
    "            doc_vars[0] = doc_vars[0] + [nft[13]] # USD\n",
    "            doc_vars[1] = doc_vars[1] + [nft[11]] # CRYPTO\n",
    "            doc_vars[2] = doc_vars[2] + [nft[12]] # COIN\n",
    "            doc_vars[3] = doc_vars[3] + [nft[5]]  # Buyer address\n",
    "            doc_vars[4] = doc_vars[4] + [nft[17]] # Market\n",
    "            doc_vars[5] = doc_vars[5] + [nft[23]] # Category\n",
    "    \n",
    "    output = []\n",
    "    for el in doc_vars[0:2]:\n",
    "        el = np.array(el).astype(float)\n",
    "        output.append([np.mean(el), np.median(el), np.var(el), np.sum(el), np.prod(el)])\n",
    "    output.append(doc_vars[2])\n",
    "    output.append(doc_vars[3])\n",
    "    output.append(doc_vars[4])\n",
    "    output.append(doc_vars[5])\n",
    "    output.append(len(c_nfts))\n",
    "    return output\n",
    "              "
   ]
  },
  {
   "cell_type": "code",
   "execution_count": 169,
   "id": "fd98e621",
   "metadata": {},
   "outputs": [
    {
     "name": "stdout",
     "output_type": "stream",
     "text": [
      "2021-03-02 13:08:11\n",
      "2021-03-02 13:08:11\n",
      "[[234.13950050081365, 234.13950050081365, 0.0, 234.13950050081365, 234.13950050081365], [0.15, 0.15, 0.0, 0.15, 0.15], ['WETH'], ['0xbf202ce351d77d816b505e27535aeb22b823c469'], ['OpenSea'], ['Other'], 1]\n"
     ]
    }
   ],
   "source": [
    "mn, mx = getCollectionDateRange(loadCollection(c))\n",
    "print(mn)\n",
    "print(mx)\n",
    "stats = collStats(c, mn, mx)\n",
    "print(stats)"
   ]
  },
  {
   "cell_type": "code",
   "execution_count": null,
   "id": "fc236728",
   "metadata": {},
   "outputs": [],
   "source": []
  },
  {
   "cell_type": "markdown",
   "id": "6a61fdb9",
   "metadata": {},
   "source": [
    "# Create function to get stats of an nft's given collection"
   ]
  },
  {
   "cell_type": "markdown",
   "id": "cdf567d3",
   "metadata": {},
   "source": [
    "# Iterate Over Collections - Parse Sliding Windows\n",
    "\n",
    "### Data to be included (for each date) for the NFT:\n",
    "- All collection stats (number of items, volume traded)\n",
    "- NFT collection stats (number of items, volume traded)\n",
    "- NFT stats (crypto, price USD, price cypto, category)\n",
    "- Label - percentage return"
   ]
  },
  {
   "cell_type": "code",
   "execution_count": null,
   "id": "103c7d7d",
   "metadata": {},
   "outputs": [],
   "source": []
  }
 ],
 "metadata": {
  "kernelspec": {
   "display_name": "Python 3 (ipykernel)",
   "language": "python",
   "name": "python3"
  },
  "language_info": {
   "codemirror_mode": {
    "name": "ipython",
    "version": 3
   },
   "file_extension": ".py",
   "mimetype": "text/x-python",
   "name": "python",
   "nbconvert_exporter": "python",
   "pygments_lexer": "ipython3",
   "version": "3.9.7"
  }
 },
 "nbformat": 4,
 "nbformat_minor": 5
}
