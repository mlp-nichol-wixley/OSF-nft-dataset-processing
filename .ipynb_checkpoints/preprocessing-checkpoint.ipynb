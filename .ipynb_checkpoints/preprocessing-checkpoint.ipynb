{
 "cells": [
  {
   "cell_type": "code",
   "execution_count": 1,
   "id": "7c1872de",
   "metadata": {},
   "outputs": [],
   "source": [
    "import os\n",
    "import numpy as np\n",
    "import csv"
   ]
  },
  {
   "cell_type": "code",
   "execution_count": 2,
   "id": "5c290110",
   "metadata": {},
   "outputs": [],
   "source": [
    "def readCSV(fname):\n",
    "    file = open(f\"{os.getcwd()}/{fname}.csv\")\n",
    "    csvreader = csv.reader(file)\n",
    "    header = []\n",
    "    header = next(csvreader)\n",
    "    \n",
    "    rows = []\n",
    "    for row in csvreader:\n",
    "        rows.append(row)\n",
    "        \n",
    "    return header, rows"
   ]
  },
  {
   "cell_type": "code",
   "execution_count": null,
   "id": "6eeb8c32",
   "metadata": {},
   "outputs": [],
   "source": [
    "coll_head, coll_rows = readCSV(\"Cleaning_collections\")\n",
    "api_head, api_rows = readCSV(\"Data_API\")"
   ]
  }
 ],
 "metadata": {
  "kernelspec": {
   "display_name": "Python 3 (ipykernel)",
   "language": "python",
   "name": "python3"
  },
  "language_info": {
   "codemirror_mode": {
    "name": "ipython",
    "version": 3
   },
   "file_extension": ".py",
   "mimetype": "text/x-python",
   "name": "python",
   "nbconvert_exporter": "python",
   "pygments_lexer": "ipython3",
   "version": "3.7.11"
  }
 },
 "nbformat": 4,
 "nbformat_minor": 5
}
