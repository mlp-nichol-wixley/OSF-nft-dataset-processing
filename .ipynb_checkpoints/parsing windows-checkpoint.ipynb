{
 "cells": [
  {
   "cell_type": "code",
   "execution_count": 10,
   "id": "cfdc641d",
   "metadata": {},
   "outputs": [],
   "source": [
    "import csv\n",
    "import numpy as np\n",
    "import pickle\n",
    "import os\n",
    "from datetime import datetime\n",
    "from collections import Counter"
   ]
  },
  {
   "cell_type": "code",
   "execution_count": 11,
   "id": "e321f261",
   "metadata": {},
   "outputs": [],
   "source": [
    "def one_hot(data, ret_type):\n",
    "    counts = Counter(data)\n",
    "    \n",
    "    if ret_type == \"coin\":\n",
    "        values = {\"ETH\": 0, \"WETH\": 1, \"WAX\": 2}\n",
    "    elif ret_type == \"market\":\n",
    "        values = {\"OpenSea\": 0, \"Atomic\": 1, \"Cryptokitties\": 2, \"Godsunchained\": 3, \"Decentraland\": 4}\n",
    "    else:\n",
    "        values = {\"Other\": 0, \"Art\": 1, \"Games\": 2, \"Collectible\": 3}\n",
    "    return counts"
   ]
  },
  {
   "cell_type": "code",
   "execution_count": 6,
   "id": "60aa9932",
   "metadata": {},
   "outputs": [],
   "source": [
    "def loadCollection(c):\n",
    "    return pickle.load(open(f\"{DIR}{c}\", \"rb\"))\n",
    "\n",
    "def getTimestamp(date):\n",
    "    return datetime.fromisoformat(date).timestamp()\n",
    "\n",
    "def getCollectionDateRange(c_nfts):\n",
    "    dates = {i: getTimestamp(el[19]) for i, el in enumerate(c_nfts)}\n",
    "    return c_nfts[max(dates, key=dates.get)][19], c_nfts[min(dates, key=dates.get)][19]\n",
    "\n",
    "def collStats(c, start, end):\n",
    "    doc_vars = [[]]*6\n",
    "    #start_ts = getTimestamp(start)\n",
    "    #end_ts = getTimestamp(end)\n",
    "    \n",
    "    c_nfts = loadCollection(c)\n",
    "    #print(c_nfts)\n",
    "    #maxDate, minDate = getCollectionDateRange(c_nfts)\n",
    "    \n",
    "    for nft in c_nfts:\n",
    "        date = nft[19]\n",
    "        date_ts = getTimestamp(date)\n",
    "        if date_ts >= start and date_ts <= end:\n",
    "            doc_vars[0] = doc_vars[0] + [nft[13]] # USD\n",
    "            doc_vars[1] = doc_vars[1] + [nft[11]] # CRYPTO\n",
    "            doc_vars[2] = doc_vars[2] + [nft[12] == \"ETH\"] # COIN\n",
    "            #doc_vars[3] = doc_vars[3] + [nft[5]]  # Buyer address\n",
    "            doc_vars[3] = doc_vars[3] + [nft[17] == \"OpenSea\"] # Market\n",
    "            doc_vars[4] = doc_vars[4] + [nft[23] == \"Other\"] # Category\n",
    "    \n",
    "    output = []\n",
    "    for el in doc_vars[0:2]:\n",
    "        el = np.array(el).astype(float)\n",
    "        output.append([np.mean(el), np.median(el), np.var(el), np.sum(el), np.prod(el)])\n",
    "    print(one)\n",
    "    output.append(sum(doc_vars[2]))\n",
    "    output.append(sum(doc_vars[3]))\n",
    "    output.append(sum(doc_vars[4]))\n",
    "    output.append(len(c_nfts))\n",
    "    return output"
   ]
  },
  {
   "cell_type": "code",
   "execution_count": 7,
   "id": "ccc3ac18",
   "metadata": {},
   "outputs": [],
   "source": [
    "DIR = \"/media/hwixley/data-drive/mlp-coursework3/OSF-data/\"\n",
    "window_size = 10"
   ]
  },
  {
   "cell_type": "code",
   "execution_count": 8,
   "id": "b1424a75",
   "metadata": {},
   "outputs": [
    {
     "name": "stdout",
     "output_type": "stream",
     "text": [
      "['Dejavu', 'Mrmonkpropaganda', 'Jyglitch', 'Sandiamaeu', 'Xuniverse', 'Pornhubcard', 'Folk', 'Cryptocross', 'Absurd', 'Unifty', 'Hmsequencing', 'Gradgrid', 'Aeforia', 'Spiral', 'Cosantacosan', 'Pinupart', 'Anchorlfths', 'Recycle', 'Cryptokanji', 'Gnarlyboard', 'Finneasfirst', 'Soldierforce', 'Spinningicon', 'Axie', 'Orla', 'Drakonmaster', 'Cryptotroll', 'Pigaphotonft', 'Lazlolissitsky', 'Pownft', 'Gsesgander', 'Cattifamily', 'Randorectang', 'Cryptobmnft', 'Dpsafecolor', 'Inelonwemusk', 'Cryptoattax', 'Bullrunbabestoken', 'Aoctestfrid', 'Motivsdefind', 'Mandalaotion', 'Cbanotshotsx', 'Devtest', 'Labotiquedejessy', 'Archipunk', 'Ethercat', 'Richarddixonrare', 'Fairumnft', 'Drjone', 'Landercave', 'Crpcreature', 'Bruhmeme', 'Final', 'Pgettymuseum', 'Cryptocasino', 'Cryptoji', 'Kennbosakgif', 'Shitcoinshitcoin', 'Marahgemx', 'Happybirthday', 'Paintingart', 'Prezofcrypto', 'Depresionday', 'Japanstamp', 'Clodydayz', 'Postersketc', 'Wizard', 'Animationsv', 'Puffytheballn', 'Bavedetroitt', 'Matt', 'Characterisma', 'Eventhorizon', 'Gebrotesting', 'Justlearnpod', 'Hyper', 'Menofthemn', 'Yoldesign', 'Coinmiracle', 'Cryptolandsasset', 'Khan', 'Lavadrop', 'Stickypeople', 'Sport', 'Darhjd', 'Flirtyzemoji', 'Avapunk', 'Jellies', 'Drzammsydolo', 'Strainreview', 'Radaquesttcg', 'Dnnlimited', 'Tlsfixingorhurtingeverything', 'Etherisland', 'Jame', 'Transcedentl', 'Cryptogun', 'Pilsinupland', 'Buslifeworld', 'Mytripsdrop', 'Datacorruption', 'Knight', 'Standardpack', 'Lyallfamilychristmascard', 'Horrorhead', 'Jackentropy', 'Fepettearta', 'Popgunart', 'Jigowattcard', 'Conniedigital', 'Azanellonft', 'Twinklespark', 'Byte', 'Lukeramseynft', 'Furucombonft', 'Cryptogallerynftboxart', 'Btcorigins', 'Jessy', 'Thato', 'Cryptogoat', 'Magnum', 'Stinassketchbk', 'Ethandalt', 'Stepper', 'Proceduralpattern', 'Grumpiimonster', 'Lyleowerko', 'Logbk', 'Owlsofcrypto', 'Elabglass', 'Virginscard', 'Wiselikeeveryday', 'Quotesonblockchain', 'Untamedbyte', 'Internationalmegadigital', 'Clodwhite', 'Ghostfilm', 'Friedsea', 'Cryptotradingcard', 'Cryptofrogz', 'Open', 'Twinflame', 'Cryptokarts', 'Melovehater', 'Standardsoda', 'Glitchkick', 'Inventory', 'Kmatt', 'Slimeball', 'Seanbonner', 'Animal', 'Radiantglowingbit', 'Endlesslt', 'Nanosatthefirstnanosatellitescryptocollection', 'Fanksy', 'Trance', 'Hellskull', 'Unskilledworker', 'Squareone', 'Zuzumazu', 'Cryptoartsorg', 'Alonzapayor', 'Asmallrat', 'Fungiblebypak', 'Xpixel', 'Myart', 'Safe', 'Ootygerart', 'Mkymantle', 'Cryptokt', 'Slimesunday', 'Ethfighter', 'Myclcats', 'Trakksond', 'Gigerislaw', 'Confessionsofatrashartist', 'Katieartwork', 'Murall', 'Mixedrealityphoto', 'Randostuffs', 'Proartgalley', 'Mfjglasssss', 'Shrubbyvoyageart', 'Rainverse', 'Thingsyosay', 'Vron', 'Numismatium', 'Alessiodevecchi', 'Cryptoamnie', 'Prokillerspk', 'Crosseyedgallery', 'Firstdance', 'Fabiobeltram', 'Cryptoducky', 'Thriftshop', 'Manusonqn', 'Scritchbeatcollection', 'Anon', 'Ethstory', 'Morganjesselappin', 'Endgamebadge', 'Magnftchill', 'Cruzcalterio', 'Drakedollar', 'Cryptocars', 'Cryptomusks', 'Abstract', 'Wncollector', 'Deltahubcapitalv', 'Ferrisbullish', 'Cryptolevnet', 'Nfzuru', 'Rwallstreetbet', 'Platon', 'Cryptocards', 'Caladelpino', 'Fanaticsuno', 'Gseartnft', 'Glitchball', 'Xmeetsimtoken', 'Hungergame', 'Annazhilyaeva', 'Little', 'Cryptoportrait', 'Nephilimneph', 'Peacedaclove', 'Robnesscryptoartcollection', 'Luciferanime', 'Checkmatenft', 'Muffinlover', 'Annafineart', 'Visualizebitcoin', 'Atomicheroescollection', 'Manhikesnft', 'Snipermarsha', 'Anomalie', 'Dimassilva', 'Hhnft', 'Jungletime', 'Mnstrunleash', 'Tndogs', 'Weelecht', 'Justwildone', 'Mdnftcardss', 'Lokidio', 'Lonelyastronaut', 'Bykevinabosch', 'Cryptofreedom', 'Lkasitodrop', 'Tdizzle', 'Godsmistake', 'Cryptoarg', 'Mlnclubitc', 'Ekstudio', 'Beautifullyordinary', 'Cryptoblobfishe', 'Decrypt', 'Spellsofgenesiscard', 'Chrissaunder', 'Scrazyone', 'Zuphy', 'Enter', 'Etherbear', 'Cryptoartistx', 'Nakamotoart', 'Fillthespace', 'Kultrkrp', 'Potemkin', 'Catnip', 'Cryptoapes', 'Dopepope', 'Nasa', 'Coitalgrop', 'Chirpcastnft', 'Imback', 'Drawwriteplay', 'Ftbattlecard', 'Sinofmanpixel', 'Davidelvionz', 'Meanderdot', 'Benhaleymade', 'Hawkwardart', 'Weekndxstrangelpstudio', 'Howiedoin', 'Cryptopixelpepe', 'Everything', 'Sickbike', 'Gustavobarroso', 'Reesesblkpc', 'Mikevensel', 'Viceartonwax', 'Cryptomining', 'Gdz.topp', 'Warhodlfirstdrop', 'Chesspuzzle', 'Rektsop', 'Animatedlp', 'Wpsndbxfnly', 'Bonktoken', 'Poppunk', 'Ozimasternft', 'King', 'Bunnybunch', 'Acefreewarestore', 'Traintagsuno', 'Insanecrittersbyzachhadelandmichael', 'Databending', 'Iamprecieeeartwork', 'Abrehmiii', 'Maisanscard', 'Dancingwind', 'Hodiestheserie', 'Scottowen', 'Alhucard', 'Anbubliyart', 'Spideynstan', 'Wmpart', 'Tpeoplekaymo', 'Magnft', 'Porkbuscard', 'Modernizedtradition', 'Basedgainzy', 'Terra', 'Marmajfondation', 'Tanuki', 'Logan', 'Wondercollec', 'Randommemorabilia', 'Rekt', 'Forbessmafia', 'Neozulphotography', 'Weinbagz', 'Cryptolotuse', 'Abeautifulthingawaitsusall', 'Chssgraphic', 'Constellationpackbymonstercat', 'Cryptoquilt', 'Ellesse', 'Face', 'Ahuevonshot', 'Cryptobeer', 'Seriospics', 'Amabiechan', 'Conceptvideo', 'Prokopevoneeth', 'Historydable', 'Video', 'Inteligencia', 'Handshakecollection', 'Evmanzworld', 'Hidddengems', 'Hashmask', 'Chadknight', 'Plasmabear', 'Cbhoyo', 'Respect', 'Samsdrawing', 'Jmarppattern', 'Ghostfacetry', 'Meatcanyon', 'Canvases', 'Shittyemoji', 'Auction', 'Pielscape', 'Exhibition', 'Creepted', 'Demicryptdc', 'Hubilaikhn', 'Objectiveart', 'Luchopoletti', 'Higherdesign', 'Imtwerkypepe', 'Kawaiimonster', 'Quesomania', 'Alpertdesigns', 'Gftexchange', 'Horacioxart', 'Snarkart', 'Historyofage', 'Loaw', 'Adam', 'Fdfriend', 'Extexplorer', 'Jay', 'Fudfinance', 'Inetodysseya', 'Unclebitcoin', 'Mnboy', 'Saturnruled', 'Bowden', 'Ddistmeme', 'Automaton', 'Sunseeker', 'Radiosilence', 'Freshfdart', 'Quantumvariantphase', 'Cryptocrops', 'Grimesxmac', 'Covidheroe', 'Kinkyskullx', 'Classet', 'Joecsketche', 'Roho', 'Dvburkeart', 'Nextmostfamosartist', 'Mynonfungibletoken', 'Nascar', 'Lander', 'Digirandm', 'Junglerart', 'Gcart', 'Dualityvi', 'Vizzyvisual', 'Lucasguzmansart', 'Parrotlvbrd', 'Cryptoavatard', 'Vfx', 'Mewmetamorphosi', 'Adnauseam', 'Phazed', 'Mlbtoppsveri', 'Hfsp', 'Wax', 'Itsneverlastcallintheclubhose', 'Bittecolection', 'Eosisawesome', 'Ppp', 'Rektrektrekt', 'Sometimesnft', 'Twitteridea', 'Yalocargo', 'Dailydosenft', 'Luigivenegoni', 'Whitelotu', 'Creaturezep', 'Cryptodix', 'Cryptobb', 'Teddy', 'Bitsenji', 'Catfreshart', 'Meowyoface', 'Cedauri', 'Bitbear', 'Mokenlimited', 'Cryptobugsgentlemen', 'Cryptocare', 'Majinft', 'Cryptoblobs', 'Scannercore', 'Colonizemar', 'Sunriseonwax', 'Reaiart', 'Amazonelope', 'Easelshadow', 'Expyrd', 'Beastlyballer', 'Lingyu', 'Eyesteethandflesh', 'Budstarcube', 'Mrfreemanmedalion', 'Primary', 'Fantasypsnt', 'Ascamdemic', 'Wweofficial', 'Frame', 'Monstrfanart', 'Modulargem', 'Mykidsartguy', 'Paulsbaldwin', 'Funnymustach', 'Cryptodeli', 'Deadstarscol', 'Eliteartist', 'Ninjasticker', 'Snail', 'Myrenderhead', 'Ropemakersunited', 'Hopebynellybaksht', 'Holoddgoddgg', 'Dkongz', 'Marisolvenga', 'Jesusnft', 'Btcartdrops', 'Election', 'Cryptobull', 'Singaporepic', 'Claytopunk', 'Drawingsforu', 'Maycofficial', 'Arro', 'Eriksiador', 'Piniartgallery', 'Gittron', 'Arcona', 'Cryptoyuna', 'Superskunk', 'Skinoriginal', 'Prospectorsa', 'Clashdomenft', 'Frauncesart', 'Watchandenio', 'Cartnstakeover', 'Uniqueone', 'Bitgnome', 'Cryptoplanet', 'Exiomturtle', 'Usapresident', 'Anewfrontier', 'Bensrealm', 'Mrtreefanart', 'Cryptoterrasseason', 'Cryptobeastie', 'Ninoarteiro', 'Glicpi', 'Halloffame', 'Zevigart', 'Crypdonut', 'Cryptoguardian', 'Tanyasmasterpiece', 'Qwertyuioplk', 'Leftarmover', 'Ftstepsbynature', 'Nwear', 'Hdskin', 'Modbuildgenmodernbuildinggenerator', 'Prodbdutch', 'Kinkycrypto', 'Faridani', 'Legend', 'Mypiggybank', 'Froglevelusa', 'Cryptopixela', 'Messagecard', 'Avatar', 'Hivemind', 'Floralart', 'Uahaw.wam', 'Ronald', 'Noacollector', 'Devil', 'Lipsmak', 'Crptoskillr', 'Claypetfox', 'Grvysloth', 'Mardukprophecy', 'Reauofficial', 'Girslovenft', 'Wassiepunk', 'Vancitycomic', 'Mercylolcmz', 'Parrottism', 'Cheapshitforcheappeople', 'Lmartforlife', 'Ooakosimoart', 'Stakeproject', 'Legacy', 'Cryptochck', 'Jetsnailllll', 'Thisisatest', 'Fmdqmmarket', 'Cryptofd', 'Etheroe', 'Flowpshop', 'Simianamberfictionalart', 'Aurora', 'Bwpunk', 'Eosgocards', 'Nfu', 'Acidcherrie', 'Vitaminsee', 'Hashpaint', 'Bluebucket', 'Manabot', 'Cryptotatz', 'Cryptowanks', 'Dappery', 'Zosphoto', 'Weirlien', 'Espenkluge', 'Oweedwxnft', 'Unitedbyunknownfriend', 'Distantvoice', 'Victimstudiosartwork', 'Trocproclock', 'Ragefan', 'Cxcworldnft', 'Fictionfiend', 'Rplanetverif', 'Firewillburn', 'Xangrysnailx', 'Dcntraiz', 'Happytoexist', 'Poly', 'Rollerdance']\n"
     ]
    }
   ],
   "source": [
    "files = os.listdir(f\"{DIR}windows/size{window_size}/\")\n",
    "print(files)"
   ]
  },
  {
   "cell_type": "code",
   "execution_count": 9,
   "id": "692080d2",
   "metadata": {},
   "outputs": [
    {
     "name": "stdout",
     "output_type": "stream",
     "text": [
      "[[0.0, 341324.0], [0.0, 1380847.0], [0.0, 727855.0], [0.0, 72487.0], [0.0, 439065.0], [0.0, 4093.0], [0.0, 144292.0], [0.0, 885.0], [0.0, 7238.0], [0.0, 10734.0], [31.071008063555684, 40.6798, 219.56920358424023, 466.0651209533353, 6.031222658446705e+20], [0.030546666666666673, 0.035, 0.0001475971555555556, 0.4582000000000001, 9.012174203935551e-25], 10, 15, 15, 82]\n",
      "\n",
      "[[0.0, 423.0], [0.0, 470.0], [0.3999999999999999, 37240.0], [0.0, 16026.0], [0.0, 2003185.0], [0.0, 305262.0], [-0.7999999999999999, 260892.0], [5.428571428571428, 2184038.0], [0.0, 460.0], [0.11111111111111108, 201.0], [779.111739979213, 642.59125, 194966.7896939488, 17919.5700195219, 5.510996702207835e+63], [0.4165217391304348, 0.35, 0.05107485822306238, 9.58, 4.382023405134373e-12], 20, 23, 23, 82]\n",
      "\n",
      "[[0.0, 990.0], [0.0, 77.0], [0.0, 1203.0], [0.0, 1687.0], [0.0, 3511.0], [0.0, 7559.0], [0.0, 38521.0], [0.0, 109024.0], [0.0, 2471932.0], [0.0, 342.0], [25.798781198220833, 23.07725, 102.97044029393872, 309.58537437865, 4.61001493306769e+16], [0.052083333333333336, 0.05, 0.0002560763888888889, 0.625, 2.4414062500000014e-16], 11, 12, 12, 82]\n",
      "\n"
     ]
    },
    {
     "ename": "KeyboardInterrupt",
     "evalue": "",
     "output_type": "error",
     "traceback": [
      "\u001b[0;31m---------------------------------------------------------------------------\u001b[0m",
      "\u001b[0;31mKeyboardInterrupt\u001b[0m                         Traceback (most recent call last)",
      "\u001b[0;32m/tmp/ipykernel_172774/454950393.py\u001b[0m in \u001b[0;36m<module>\u001b[0;34m\u001b[0m\n\u001b[1;32m     15\u001b[0m             \u001b[0mend\u001b[0m \u001b[0;34m=\u001b[0m \u001b[0ms\u001b[0m\u001b[0;34m[\u001b[0m\u001b[0;34m-\u001b[0m\u001b[0;36m3\u001b[0m\u001b[0;34m]\u001b[0m\u001b[0;34m\u001b[0m\u001b[0;34m\u001b[0m\u001b[0m\n\u001b[1;32m     16\u001b[0m \u001b[0;34m\u001b[0m\u001b[0m\n\u001b[0;32m---> 17\u001b[0;31m             \u001b[0mcoll_stats\u001b[0m \u001b[0;34m=\u001b[0m \u001b[0mcollStats\u001b[0m\u001b[0;34m(\u001b[0m\u001b[0mf\u001b[0m\u001b[0;34m,\u001b[0m \u001b[0mstart\u001b[0m\u001b[0;34m,\u001b[0m \u001b[0mend\u001b[0m\u001b[0;34m)\u001b[0m\u001b[0;34m\u001b[0m\u001b[0;34m\u001b[0m\u001b[0m\n\u001b[0m\u001b[1;32m     18\u001b[0m             \u001b[0mx\u001b[0m \u001b[0;34m=\u001b[0m \u001b[0;34m[\u001b[0m\u001b[0;34m[\u001b[0m\u001b[0ms\u001b[0m\u001b[0;34m[\u001b[0m\u001b[0mi\u001b[0m\u001b[0;34m*\u001b[0m\u001b[0;36m3\u001b[0m\u001b[0;34m]\u001b[0m\u001b[0;34m,\u001b[0m \u001b[0ms\u001b[0m\u001b[0;34m[\u001b[0m\u001b[0mi\u001b[0m\u001b[0;34m*\u001b[0m\u001b[0;36m3\u001b[0m \u001b[0;34m+\u001b[0m \u001b[0;36m1\u001b[0m\u001b[0;34m]\u001b[0m\u001b[0;34m]\u001b[0m \u001b[0;32mfor\u001b[0m \u001b[0mi\u001b[0m \u001b[0;32min\u001b[0m \u001b[0mrange\u001b[0m\u001b[0;34m(\u001b[0m\u001b[0msample_size\u001b[0m\u001b[0;34m)\u001b[0m\u001b[0;34m]\u001b[0m\u001b[0;34m\u001b[0m\u001b[0;34m\u001b[0m\u001b[0m\n\u001b[1;32m     19\u001b[0m             \u001b[0mx\u001b[0m \u001b[0;34m=\u001b[0m \u001b[0;34m[\u001b[0m\u001b[0mel\u001b[0m \u001b[0;32mfor\u001b[0m \u001b[0mel\u001b[0m \u001b[0;32min\u001b[0m \u001b[0mx\u001b[0m\u001b[0;34m]\u001b[0m\u001b[0;34m\u001b[0m\u001b[0;34m\u001b[0m\u001b[0m\n",
      "\u001b[0;32m/tmp/ipykernel_172774/460064089.py\u001b[0m in \u001b[0;36mcollStats\u001b[0;34m(c, start, end)\u001b[0m\n\u001b[1;32m     22\u001b[0m         \u001b[0mdate_ts\u001b[0m \u001b[0;34m=\u001b[0m \u001b[0mgetTimestamp\u001b[0m\u001b[0;34m(\u001b[0m\u001b[0mdate\u001b[0m\u001b[0;34m)\u001b[0m\u001b[0;34m\u001b[0m\u001b[0;34m\u001b[0m\u001b[0m\n\u001b[1;32m     23\u001b[0m         \u001b[0;32mif\u001b[0m \u001b[0mdate_ts\u001b[0m \u001b[0;34m>=\u001b[0m \u001b[0mstart\u001b[0m \u001b[0;32mand\u001b[0m \u001b[0mdate_ts\u001b[0m \u001b[0;34m<=\u001b[0m \u001b[0mend\u001b[0m\u001b[0;34m:\u001b[0m\u001b[0;34m\u001b[0m\u001b[0;34m\u001b[0m\u001b[0m\n\u001b[0;32m---> 24\u001b[0;31m             \u001b[0mdoc_vars\u001b[0m\u001b[0;34m[\u001b[0m\u001b[0;36m0\u001b[0m\u001b[0;34m]\u001b[0m \u001b[0;34m=\u001b[0m \u001b[0mdoc_vars\u001b[0m\u001b[0;34m[\u001b[0m\u001b[0;36m0\u001b[0m\u001b[0;34m]\u001b[0m \u001b[0;34m+\u001b[0m \u001b[0;34m[\u001b[0m\u001b[0mnft\u001b[0m\u001b[0;34m[\u001b[0m\u001b[0;36m13\u001b[0m\u001b[0;34m]\u001b[0m\u001b[0;34m]\u001b[0m \u001b[0;31m# USD\u001b[0m\u001b[0;34m\u001b[0m\u001b[0;34m\u001b[0m\u001b[0m\n\u001b[0m\u001b[1;32m     25\u001b[0m             \u001b[0mdoc_vars\u001b[0m\u001b[0;34m[\u001b[0m\u001b[0;36m1\u001b[0m\u001b[0;34m]\u001b[0m \u001b[0;34m=\u001b[0m \u001b[0mdoc_vars\u001b[0m\u001b[0;34m[\u001b[0m\u001b[0;36m1\u001b[0m\u001b[0;34m]\u001b[0m \u001b[0;34m+\u001b[0m \u001b[0;34m[\u001b[0m\u001b[0mnft\u001b[0m\u001b[0;34m[\u001b[0m\u001b[0;36m11\u001b[0m\u001b[0;34m]\u001b[0m\u001b[0;34m]\u001b[0m \u001b[0;31m# CRYPTO\u001b[0m\u001b[0;34m\u001b[0m\u001b[0;34m\u001b[0m\u001b[0m\n\u001b[1;32m     26\u001b[0m             \u001b[0mdoc_vars\u001b[0m\u001b[0;34m[\u001b[0m\u001b[0;36m2\u001b[0m\u001b[0;34m]\u001b[0m \u001b[0;34m=\u001b[0m \u001b[0mdoc_vars\u001b[0m\u001b[0;34m[\u001b[0m\u001b[0;36m2\u001b[0m\u001b[0;34m]\u001b[0m \u001b[0;34m+\u001b[0m \u001b[0;34m[\u001b[0m\u001b[0mnft\u001b[0m\u001b[0;34m[\u001b[0m\u001b[0;36m12\u001b[0m\u001b[0;34m]\u001b[0m \u001b[0;34m==\u001b[0m \u001b[0;34m\"ETH\"\u001b[0m\u001b[0;34m]\u001b[0m \u001b[0;31m# COIN\u001b[0m\u001b[0;34m\u001b[0m\u001b[0;34m\u001b[0m\u001b[0m\n",
      "\u001b[0;31mKeyboardInterrupt\u001b[0m: "
     ]
    }
   ],
   "source": [
    "window_size = 10\n",
    "# interval: crypto, time_difference\n",
    "all_samples = []\n",
    "\n",
    "for f in files:\n",
    "    samples = pickle.load(open(f\"{DIR}windows/size{window_size}/{f}\", \"rb\"))\n",
    "    #print(samples)\n",
    "    for s in samples:\n",
    "        #s = s[0]\n",
    "        if len(s) > 0 and len(s[0]) > 0:\n",
    "            s = s[0]\n",
    "            sample_size = int((len(s) - 2)/3)\n",
    "            assert sample_size == 10\n",
    "            start = s[2]\n",
    "            end = s[-3]\n",
    "            \n",
    "            coll_stats = collStats(f, start, end)\n",
    "            x = [[s[i*3], s[i*3 + 1]] for i in range(sample_size)]\n",
    "            x = [el for el in x]\n",
    "            x = x + coll_stats\n",
    "            print(x)\n",
    "            print()"
   ]
  },
  {
   "cell_type": "code",
   "execution_count": null,
   "id": "04e8d156",
   "metadata": {},
   "outputs": [],
   "source": []
  }
 ],
 "metadata": {
  "kernelspec": {
   "display_name": "Python 3 (ipykernel)",
   "language": "python",
   "name": "python3"
  },
  "language_info": {
   "codemirror_mode": {
    "name": "ipython",
    "version": 3
   },
   "file_extension": ".py",
   "mimetype": "text/x-python",
   "name": "python",
   "nbconvert_exporter": "python",
   "pygments_lexer": "ipython3",
   "version": "3.9.7"
  }
 },
 "nbformat": 4,
 "nbformat_minor": 5
}
